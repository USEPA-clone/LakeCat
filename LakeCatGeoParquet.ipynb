{
 "cells": [
  {
   "cell_type": "code",
   "execution_count": 22,
   "id": "531100e1-89c7-496a-8e36-eabd00016c3e",
   "metadata": {},
   "outputs": [],
   "source": [
    "import pyarrow as pa\n",
    "import pyarrow.parquet as pq\n",
    "import geopandas as gpd\n",
    "from pyogrio import list_layers\n",
    "import pandas as pd"
   ]
  },
  {
   "cell_type": "code",
   "execution_count": 3,
   "id": "94b88d74-3e4a-4d55-bd0d-eec8aa3da601",
   "metadata": {},
   "outputs": [
    {
     "data": {
      "text/plain": [
       "array([['OnNetWatersheds1', 'Unknown'],\n",
       "       ['OnNetWatersheds2', 'Polygon'],\n",
       "       ['OnNetWatersheds3', 'Unknown'],\n",
       "       ['OnNetWatersheds4', 'Unknown'],\n",
       "       ['OnNetWatersheds5', 'Unknown'],\n",
       "       ['OnNetWatersheds6', 'Unknown'],\n",
       "       ['OnNetWatersheds7', 'Unknown'],\n",
       "       ['OnNetWatersheds8', 'Polygon'],\n",
       "       ['OnNetWatersheds9', 'Unknown'],\n",
       "       ['OnNetWatersheds10', 'Polygon'],\n",
       "       ['OnNetWatersheds11', 'Unknown'],\n",
       "       ['OnNetWatersheds12', 'Unknown'],\n",
       "       ['OnNetWatersheds13', 'Unknown'],\n",
       "       ['OnNetWatersheds14', 'Unknown'],\n",
       "       ['OnNetWatersheds15', 'Unknown'],\n",
       "       ['OnNetWatersheds16', 'Unknown'],\n",
       "       ['OnNetWatersheds17', 'Unknown'],\n",
       "       ['OnNetWatersheds18', 'Unknown'],\n",
       "       ['OnNetWatersheds19', 'Unknown'],\n",
       "       ['OnNetWatersheds20', 'Unknown'],\n",
       "       ['OnNetWatersheds21', 'Unknown']], dtype=object)"
      ]
     },
     "execution_count": 3,
     "metadata": {},
     "output_type": "execute_result"
    }
   ],
   "source": [
    "onnet_lakes = 'O:/PRIV/CPHEA/PESD/COR/CORFILES/Geospatial_Library_Projects/LakeCat/OnNetLakeWatersheds/OnNetWorkWatersheds.gpkg'\n",
    "list_layers(onnet_lakes)"
   ]
  },
  {
   "cell_type": "code",
   "execution_count": 7,
   "id": "5af17257-04c3-43e4-a9a8-ff0303614c6d",
   "metadata": {},
   "outputs": [],
   "source": [
    "# lakes = gpd.read_file('E:/GitProjects/NARS/NARS.gdb', 'OnNetWatersheds1')\n",
    "lakes = gpd.read_file('E:/WorkingData/main_OnNetWatersheds1.shp')"
   ]
  },
  {
   "cell_type": "code",
   "execution_count": 74,
   "id": "9c51f3a6-34f7-47ab-a423-7b584906720b",
   "metadata": {},
   "outputs": [
    {
     "name": "stderr",
     "output_type": "stream",
     "text": [
      "C:\\Users\\mweber\\AppData\\Local\\miniforge3\\envs\\HyRiver\\Lib\\site-packages\\pyogrio\\raw.py:194: RuntimeWarning: E:/WorkingData/lakes27.shp contains polygon(s) with rings with invalid winding order. Autocorrecting them, but that shapefile should be corrected using ogr2ogr for example.\n",
      "  result = ogr_read(\n"
     ]
    }
   ],
   "source": [
    "temp = gpd.read_file('E:/WorkingData/lakes27.shp')"
   ]
  },
  {
   "cell_type": "code",
   "execution_count": 76,
   "id": "afc5d85d-324d-4197-a0c1-a590fe3fbf7a",
   "metadata": {},
   "outputs": [],
   "source": [
    "temp = gpd.read_file('O:/PRIV/CPHEA/PESD/COR/CORFILES/Geospatial_Library_Projects/LakeCat/Watersheds_Framework/allBasins.shp')"
   ]
  },
  {
   "cell_type": "code",
   "execution_count": 81,
   "id": "4d95f2b7-86a5-42fb-b9bb-e116bd289645",
   "metadata": {},
   "outputs": [
    {
     "data": {
      "text/plain": [
       "['COMID', 'geometry']"
      ]
     },
     "execution_count": 81,
     "metadata": {},
     "output_type": "execute_result"
    }
   ],
   "source": [
    "list(temp)"
   ]
  },
  {
   "cell_type": "code",
   "execution_count": 80,
   "id": "bcc82ad4-3430-4e6e-b967-c4541942a167",
   "metadata": {},
   "outputs": [],
   "source": [
    "temp = temp[['COMID','geometry']]"
   ]
  },
  {
   "cell_type": "code",
   "execution_count": 78,
   "id": "eab33ec0-5068-4c70-83d5-ff4b181b0288",
   "metadata": {},
   "outputs": [
    {
     "data": {
      "text/plain": [
       "['COMID', 'WBCOMID', 'geometry']"
      ]
     },
     "execution_count": 78,
     "metadata": {},
     "output_type": "execute_result"
    }
   ],
   "source": [
    "list(lakes)"
   ]
  },
  {
   "cell_type": "code",
   "execution_count": 82,
   "id": "dc27dde4-bacc-4338-acfb-4f4919b85289",
   "metadata": {},
   "outputs": [
    {
     "data": {
      "text/plain": [
       "['COMID', 'geometry']"
      ]
     },
     "execution_count": 82,
     "metadata": {},
     "output_type": "execute_result"
    }
   ],
   "source": [
    "lakes = lakes[['WBCOMID','geometry']]\n",
    "lakes = lakes.rename(columns={'WBCOMID': 'COMID'})\n",
    "list(lakes)"
   ]
  },
  {
   "cell_type": "code",
   "execution_count": 83,
   "id": "eb903636-6449-4251-8f37-544bb413efed",
   "metadata": {},
   "outputs": [],
   "source": [
    "lakes = pd.concat([lakes, temp])"
   ]
  },
  {
   "cell_type": "code",
   "execution_count": null,
   "id": "ff8e3e39-42a7-4d42-a00f-65cbd507af9d",
   "metadata": {},
   "outputs": [],
   "source": [
    "wb = gpd.read_file('G:/NHDPlusV21/NHDPlusNationalData/NHDPlusV21_National_Seamless_Flattened_Lower48.gdb',\n",
    "                   layer='NHDWaterbody')"
   ]
  },
  {
   "cell_type": "code",
   "execution_count": 86,
   "id": "0299bf8b-ac6f-4d94-ac03-7593a20d8770",
   "metadata": {},
   "outputs": [],
   "source": [
    "backup = lakes"
   ]
  },
  {
   "cell_type": "code",
   "execution_count": 87,
   "id": "58018243-8301-49d9-b83c-65cbe1e12f99",
   "metadata": {},
   "outputs": [
    {
     "data": {
      "text/plain": [
       "['COMID',\n",
       " 'FDATE',\n",
       " 'RESOLUTION',\n",
       " 'GNIS_ID',\n",
       " 'GNIS_NAME',\n",
       " 'AREASQKM',\n",
       " 'ELEVATION',\n",
       " 'REACHCODE',\n",
       " 'FTYPE',\n",
       " 'FCODE',\n",
       " 'Shape_Length',\n",
       " 'Shape_Area',\n",
       " 'ONOFFNET',\n",
       " 'PurpCode',\n",
       " 'PurpDesc',\n",
       " 'MeanDepth',\n",
       " 'LakeVolume',\n",
       " 'MaxDepth',\n",
       " 'MeanDUsed',\n",
       " 'MeanDCode',\n",
       " 'LakeArea',\n",
       " 'geometry']"
      ]
     },
     "execution_count": 87,
     "metadata": {},
     "output_type": "execute_result"
    }
   ],
   "source": [
    "list(wb)"
   ]
  },
  {
   "cell_type": "code",
   "execution_count": 88,
   "id": "c8815858-a076-429a-827c-52db43606969",
   "metadata": {},
   "outputs": [],
   "source": [
    "lakes = pd.merge(lakes, wb[['COMID','GNIS_ID','GNIS_NAME','REACHCODE']], on='COMID',how=\"left\")"
   ]
  },
  {
   "cell_type": "code",
   "execution_count": 89,
   "id": "b33d566c-0a33-4272-95b4-284639d4d08b",
   "metadata": {},
   "outputs": [
    {
     "data": {
      "text/html": [
       "<div>\n",
       "<style scoped>\n",
       "    .dataframe tbody tr th:only-of-type {\n",
       "        vertical-align: middle;\n",
       "    }\n",
       "\n",
       "    .dataframe tbody tr th {\n",
       "        vertical-align: top;\n",
       "    }\n",
       "\n",
       "    .dataframe thead th {\n",
       "        text-align: right;\n",
       "    }\n",
       "</style>\n",
       "<table border=\"1\" class=\"dataframe\">\n",
       "  <thead>\n",
       "    <tr style=\"text-align: right;\">\n",
       "      <th></th>\n",
       "      <th>COMID</th>\n",
       "      <th>geometry</th>\n",
       "      <th>GNIS_ID</th>\n",
       "      <th>GNIS_NAME</th>\n",
       "      <th>REACHCODE</th>\n",
       "    </tr>\n",
       "  </thead>\n",
       "  <tbody>\n",
       "    <tr>\n",
       "      <th>0</th>\n",
       "      <td>1735036</td>\n",
       "      <td>POLYGON ((2129595 2748554.99, 2129594.999 2748...</td>\n",
       "      <td></td>\n",
       "      <td></td>\n",
       "      <td>01020005001969</td>\n",
       "    </tr>\n",
       "    <tr>\n",
       "      <th>1</th>\n",
       "      <td>1734978</td>\n",
       "      <td>POLYGON ((2094104.999 2748374.99, 2094104.998 ...</td>\n",
       "      <td></td>\n",
       "      <td></td>\n",
       "      <td>01020005001966</td>\n",
       "    </tr>\n",
       "    <tr>\n",
       "      <th>2</th>\n",
       "      <td>6159761</td>\n",
       "      <td>POLYGON ((1934415 2354204.99, 1934414.999 2354...</td>\n",
       "      <td>209227</td>\n",
       "      <td>New City Pond</td>\n",
       "      <td>01100002000642</td>\n",
       "    </tr>\n",
       "    <tr>\n",
       "      <th>3</th>\n",
       "      <td>6160289</td>\n",
       "      <td>POLYGON ((1928055 2353964.99, 1928054.999 2353...</td>\n",
       "      <td>211151</td>\n",
       "      <td>State Line Pond</td>\n",
       "      <td>01100002000646</td>\n",
       "    </tr>\n",
       "    <tr>\n",
       "      <th>4</th>\n",
       "      <td>1735034</td>\n",
       "      <td>POLYGON ((2129384.99 2748824.99, 2129355 27488...</td>\n",
       "      <td></td>\n",
       "      <td></td>\n",
       "      <td>01020005001970</td>\n",
       "    </tr>\n",
       "  </tbody>\n",
       "</table>\n",
       "</div>"
      ],
      "text/plain": [
       "     COMID                                           geometry GNIS_ID  \\\n",
       "0  1735036  POLYGON ((2129595 2748554.99, 2129594.999 2748...           \n",
       "1  1734978  POLYGON ((2094104.999 2748374.99, 2094104.998 ...           \n",
       "2  6159761  POLYGON ((1934415 2354204.99, 1934414.999 2354...  209227   \n",
       "3  6160289  POLYGON ((1928055 2353964.99, 1928054.999 2353...  211151   \n",
       "4  1735034  POLYGON ((2129384.99 2748824.99, 2129355 27488...           \n",
       "\n",
       "         GNIS_NAME       REACHCODE  \n",
       "0                   01020005001969  \n",
       "1                   01020005001966  \n",
       "2    New City Pond  01100002000642  \n",
       "3  State Line Pond  01100002000646  \n",
       "4                   01020005001970  "
      ]
     },
     "execution_count": 89,
     "metadata": {},
     "output_type": "execute_result"
    }
   ],
   "source": [
    "lakes.head()"
   ]
  },
  {
   "cell_type": "code",
   "execution_count": 90,
   "id": "81ddd172-484a-4604-90ea-c3ffeb56c5d8",
   "metadata": {},
   "outputs": [],
   "source": [
    "lakes.to_parquet('D:/LakeCatWatersheds.parquet')"
   ]
  },
  {
   "cell_type": "code",
   "execution_count": 96,
   "id": "181f8f48-547b-4c38-8357-b195dee34c01",
   "metadata": {},
   "outputs": [
    {
     "name": "stdout",
     "output_type": "stream",
     "text": [
      "<class 'geopandas.geodataframe.GeoDataFrame'>\n",
      "RangeIndex: 382245 entries, 0 to 382244\n",
      "Data columns (total 5 columns):\n",
      " #   Column     Non-Null Count   Dtype   \n",
      "---  ------     --------------   -----   \n",
      " 0   COMID      382245 non-null  int64   \n",
      " 1   geometry   382245 non-null  geometry\n",
      " 2   GNIS_ID    382245 non-null  object  \n",
      " 3   GNIS_NAME  382245 non-null  object  \n",
      " 4   REACHCODE  382245 non-null  object  \n",
      "dtypes: geometry(1), int64(1), object(3)\n",
      "memory usage: 14.6+ MB\n"
     ]
    }
   ],
   "source": [
    "lakes.info()"
   ]
  },
  {
   "cell_type": "code",
   "execution_count": 91,
   "id": "3238897b-4f74-407d-ae78-2c261e22ee6f",
   "metadata": {},
   "outputs": [],
   "source": [
    "import pyarrow.parquet as pq\n",
    "from geopandas.io.arrow import _arrow_to_geopandas"
   ]
  },
  {
   "cell_type": "code",
   "execution_count": 98,
   "id": "f1560216-d18c-49f0-98c8-61330960f8ec",
   "metadata": {},
   "outputs": [],
   "source": [
    "parquet_file = pq.ParquetFile('D:/LakeCatWatersheds.parquet')"
   ]
  },
  {
   "cell_type": "code",
   "execution_count": 99,
   "id": "007ec553-10e3-4511-871f-5dd13aada504",
   "metadata": {},
   "outputs": [
    {
     "data": {
      "text/plain": [
       "['COMID', 'geometry', 'GNIS_ID', 'GNIS_NAME', 'REACHCODE']"
      ]
     },
     "execution_count": 99,
     "metadata": {},
     "output_type": "execute_result"
    }
   ],
   "source": [
    "parquet_file.schema_arrow.names"
   ]
  },
  {
   "cell_type": "code",
   "execution_count": 100,
   "id": "4cae3de4-0b34-4311-8f2a-fa10cabc6978",
   "metadata": {},
   "outputs": [
    {
     "data": {
      "text/plain": [
       "1"
      ]
     },
     "execution_count": 100,
     "metadata": {},
     "output_type": "execute_result"
    }
   ],
   "source": [
    "parquet_file.num_row_groups"
   ]
  },
  {
   "cell_type": "code",
   "execution_count": 103,
   "id": "9ec7c4b0-ea48-439f-899e-380eb4189d10",
   "metadata": {},
   "outputs": [],
   "source": [
    "wb = pq.read_table('D:/LakeCatWatersheds.parquet', filters=[('COMID','==',1735034)])"
   ]
  },
  {
   "cell_type": "code",
   "execution_count": 105,
   "id": "da5f7eb1-0f03-43c2-9cde-8382b09d359e",
   "metadata": {},
   "outputs": [],
   "source": [
    "geopandas_gdf = _arrow_to_geopandas(wb)"
   ]
  },
  {
   "cell_type": "code",
   "execution_count": 106,
   "id": "0e1b6332-f401-4600-8800-3c83cdee13c0",
   "metadata": {},
   "outputs": [
    {
     "data": {
      "text/html": [
       "<div>\n",
       "<style scoped>\n",
       "    .dataframe tbody tr th:only-of-type {\n",
       "        vertical-align: middle;\n",
       "    }\n",
       "\n",
       "    .dataframe tbody tr th {\n",
       "        vertical-align: top;\n",
       "    }\n",
       "\n",
       "    .dataframe thead th {\n",
       "        text-align: right;\n",
       "    }\n",
       "</style>\n",
       "<table border=\"1\" class=\"dataframe\">\n",
       "  <thead>\n",
       "    <tr style=\"text-align: right;\">\n",
       "      <th></th>\n",
       "      <th>COMID</th>\n",
       "      <th>geometry</th>\n",
       "      <th>GNIS_ID</th>\n",
       "      <th>GNIS_NAME</th>\n",
       "      <th>REACHCODE</th>\n",
       "    </tr>\n",
       "  </thead>\n",
       "  <tbody>\n",
       "    <tr>\n",
       "      <th>0</th>\n",
       "      <td>1735034</td>\n",
       "      <td>POLYGON ((2129384.99 2748824.99, 2129355 27488...</td>\n",
       "      <td></td>\n",
       "      <td></td>\n",
       "      <td>01020005001970</td>\n",
       "    </tr>\n",
       "  </tbody>\n",
       "</table>\n",
       "</div>"
      ],
      "text/plain": [
       "     COMID                                           geometry GNIS_ID  \\\n",
       "0  1735034  POLYGON ((2129384.99 2748824.99, 2129355 27488...           \n",
       "\n",
       "  GNIS_NAME       REACHCODE  \n",
       "0            01020005001970  "
      ]
     },
     "execution_count": 106,
     "metadata": {},
     "output_type": "execute_result"
    }
   ],
   "source": [
    "geopandas_gdf.head()"
   ]
  },
  {
   "cell_type": "code",
   "execution_count": null,
   "id": "31a9eeea-ea2e-454f-bfc8-7a6193f3bc90",
   "metadata": {},
   "outputs": [],
   "source": []
  }
 ],
 "metadata": {
  "kernelspec": {
   "display_name": "Python 3 (ipykernel)",
   "language": "python",
   "name": "python3"
  },
  "language_info": {
   "codemirror_mode": {
    "name": "ipython",
    "version": 3
   },
   "file_extension": ".py",
   "mimetype": "text/x-python",
   "name": "python",
   "nbconvert_exporter": "python",
   "pygments_lexer": "ipython3",
   "version": "3.12.1"
  }
 },
 "nbformat": 4,
 "nbformat_minor": 5
}
